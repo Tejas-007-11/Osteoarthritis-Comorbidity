{
 "cells": [
  {
   "cell_type": "code",
   "execution_count": null,
   "id": "702b6648",
   "metadata": {},
   "outputs": [
    {
     "name": "stdout",
     "output_type": "stream",
     "text": [
      "comorbidity\n",
      "none              583\n",
      "cardiovascular    205\n",
      "diabetes          188\n",
      "multiple           24\n",
      "Name: count, dtype: int64\n",
      "✅ Model and label mapping saved.\n"
     ]
    }
   ],
   "source": [
    "import pandas as pd\n",
    "import numpy as np\n",
    "from sklearn.model_selection import train_test_split\n",
    "from sklearn.ensemble import RandomForestClassifier\n",
    "import joblib\n",
    "\n",
    "# Set seed for reproducibility\n",
    "np.random.seed(42)\n",
    "\n",
    "# Create synthetic data\n",
    "def generate_synthetic_data(n=1000):\n",
    "    data = []\n",
    "    for _ in range(n):\n",
    "        age = np.random.randint(30, 85)\n",
    "        bmi = np.round(np.random.uniform(18, 40), 1)\n",
    "        oa_severity = np.random.randint(1, 5)  # 1-4\n",
    "        activity = np.random.randint(0, 3)  # 0=low, 1=medium, 2=high\n",
    "        smoking = np.random.choice([0, 1])  # 0=no, 1=yes\n",
    "        pain_score = np.round(np.random.uniform(1, 10), 1)\n",
    "\n",
    "        # Basic logic for assigning comorbidity\n",
    "        if age > 65 and bmi > 32 and smoking == 1 and pain_score > 7:\n",
    "            comorbidity = 'multiple'\n",
    "        elif age > 60 and smoking == 1:\n",
    "            comorbidity = 'cardiovascular'\n",
    "        elif bmi > 30 and pain_score > 5:\n",
    "            comorbidity = 'diabetes'\n",
    "        else:\n",
    "            comorbidity = 'none'\n",
    "\n",
    "        data.append([age, bmi, oa_severity, activity, smoking, pain_score, comorbidity])\n",
    "\n",
    "    df = pd.DataFrame(data, columns=[\n",
    "        'age', 'bmi', 'oa_severity', 'activity', 'smoking', 'pain_score', 'comorbidity'\n",
    "    ])\n",
    "    return df\n",
    "\n",
    "# Generate and preview data\n",
    "df = generate_synthetic_data(1000)\n",
    "print(df['comorbidity'].value_counts())\n",
    "\n",
    "# Encode target\n",
    "df['comorbidity'] = df['comorbidity'].astype('category')\n",
    "df['comorbidity_code'] = df['comorbidity'].cat.codes\n",
    "\n",
    "# Train/test split\n",
    "X = df[['age', 'bmi', 'oa_severity', 'activity', 'smoking', 'pain_score']]\n",
    "y = df['comorbidity_code']\n",
    "X_train, X_test, y_train, y_test = train_test_split(X, y, test_size=0.2, random_state=42)\n",
    "\n",
    "# Train model\n",
    "model = RandomForestClassifier(n_estimators=100, random_state=42)\n",
    "model.fit(X_train, y_train)\n",
    "\n",
    "# Save model\n",
    "joblib.dump(model, 'osteoarthritis_comorbidity_model.pkl')\n",
    "\n",
    "# Save mapping\n",
    "label_mapping = dict(enumerate(df['comorbidity'].cat.categories))\n",
    "joblib.dump(label_mapping, 'label_mapping.pkl')\n",
    "\n",
    "print(\"✅ Model and label mapping saved.\")\n"
   ]
  },
  {
   "cell_type": "code",
   "execution_count": null,
   "id": "25b5aa57",
   "metadata": {},
   "outputs": [],
   "source": []
  }
 ],
 "metadata": {
  "kernelspec": {
   "display_name": "Python 3",
   "language": "python",
   "name": "python3"
  },
  "language_info": {
   "codemirror_mode": {
    "name": "ipython",
    "version": 3
   },
   "file_extension": ".py",
   "mimetype": "text/x-python",
   "name": "python",
   "nbconvert_exporter": "python",
   "pygments_lexer": "ipython3",
   "version": "3.12.6"
  }
 },
 "nbformat": 4,
 "nbformat_minor": 5
}
